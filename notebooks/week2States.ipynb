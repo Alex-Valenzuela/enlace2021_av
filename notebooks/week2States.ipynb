{
 "cells": [
  {
   "cell_type": "markdown",
   "id": "54adc409-e673-4327-be06-7d9e0adae339",
   "metadata": {},
   "source": [
    "# Population that can/can't read of Mexican States \n",
    "\n",
    "This Notebook uses a dataframe of States (admin1) from the 2020 Mexican Census: [INEGI](https://www.inegi.org.mx/app/tabulados/interactivos/?pxq=Educacion_Educacion_01_72949576-02b2-48ba-8e9e-58e6412c1fd0)."
   ]
  },
  {
   "cell_type": "code",
   "execution_count": null,
   "id": "452cb9af-d0e6-46c0-b01c-5e1b6c131a2f",
   "metadata": {},
   "outputs": [],
   "source": [
    "import pandas as pd\n",
    "import matplotlib.pyplot as plt\n",
    "import seaborn as sns\n",
    "from string import ascii_letters\n",
    "import numpy as np\n",
    "\n",
    "%matplotlib inline\n",
    "%reload_ext autoreload\n",
    "%autoreload 2"
   ]
  },
  {
   "cell_type": "markdown",
   "id": "f3da418d-85a2-4704-a037-efbd621f3473",
   "metadata": {},
   "source": [
    "The week 1 analyzes is open"
   ]
  },
  {
   "cell_type": "code",
   "execution_count": 2,
   "id": "fc2443d5-dd47-4652-b7f3-421ff857eea9",
   "metadata": {},
   "outputs": [
    {
     "data": {
      "text/html": [
       "<div>\n",
       "<style scoped>\n",
       "    .dataframe tbody tr th:only-of-type {\n",
       "        vertical-align: middle;\n",
       "    }\n",
       "\n",
       "    .dataframe tbody tr th {\n",
       "        vertical-align: top;\n",
       "    }\n",
       "\n",
       "    .dataframe thead th {\n",
       "        text-align: right;\n",
       "    }\n",
       "</style>\n",
       "<table border=\"1\" class=\"dataframe\">\n",
       "  <thead>\n",
       "    <tr style=\"text-align: right;\">\n",
       "      <th></th>\n",
       "      <th>cve_ent</th>\n",
       "      <th>state</th>\n",
       "      <th>population</th>\n",
       "      <th>total_cases</th>\n",
       "      <th>case_rate</th>\n",
       "      <th>total_cases_last_60_days</th>\n",
       "      <th>case_rate_last_60_days</th>\n",
       "      <th>total_deaths</th>\n",
       "      <th>death_rate</th>\n",
       "      <th>total_deaths_last_60_days</th>\n",
       "      <th>death_rate_last_60_days</th>\n",
       "    </tr>\n",
       "  </thead>\n",
       "  <tbody>\n",
       "    <tr>\n",
       "      <th>0</th>\n",
       "      <td>1</td>\n",
       "      <td>AGUASCALIENTES</td>\n",
       "      <td>1434635</td>\n",
       "      <td>26694</td>\n",
       "      <td>1860.682334</td>\n",
       "      <td>793</td>\n",
       "      <td>55.275384</td>\n",
       "      <td>2456</td>\n",
       "      <td>171.193370</td>\n",
       "      <td>85</td>\n",
       "      <td>5.924852</td>\n",
       "    </tr>\n",
       "    <tr>\n",
       "      <th>1</th>\n",
       "      <td>2</td>\n",
       "      <td>BAJA CALIFORNIA</td>\n",
       "      <td>3634868</td>\n",
       "      <td>50278</td>\n",
       "      <td>1383.213916</td>\n",
       "      <td>2349</td>\n",
       "      <td>64.624080</td>\n",
       "      <td>8648</td>\n",
       "      <td>237.917856</td>\n",
       "      <td>174</td>\n",
       "      <td>4.786969</td>\n",
       "    </tr>\n",
       "    <tr>\n",
       "      <th>2</th>\n",
       "      <td>3</td>\n",
       "      <td>BAJA CALIFORNIA SUR</td>\n",
       "      <td>804708</td>\n",
       "      <td>36223</td>\n",
       "      <td>4501.384353</td>\n",
       "      <td>6266</td>\n",
       "      <td>778.667542</td>\n",
       "      <td>1486</td>\n",
       "      <td>184.663257</td>\n",
       "      <td>116</td>\n",
       "      <td>14.415167</td>\n",
       "    </tr>\n",
       "    <tr>\n",
       "      <th>3</th>\n",
       "      <td>4</td>\n",
       "      <td>CAMPECHE</td>\n",
       "      <td>1000617</td>\n",
       "      <td>11081</td>\n",
       "      <td>1107.416724</td>\n",
       "      <td>1628</td>\n",
       "      <td>162.699614</td>\n",
       "      <td>1265</td>\n",
       "      <td>126.421998</td>\n",
       "      <td>56</td>\n",
       "      <td>5.596547</td>\n",
       "    </tr>\n",
       "    <tr>\n",
       "      <th>4</th>\n",
       "      <td>7</td>\n",
       "      <td>CHIAPAS</td>\n",
       "      <td>5730367</td>\n",
       "      <td>12050</td>\n",
       "      <td>210.283216</td>\n",
       "      <td>1095</td>\n",
       "      <td>19.108724</td>\n",
       "      <td>1654</td>\n",
       "      <td>28.863771</td>\n",
       "      <td>41</td>\n",
       "      <td>0.715486</td>\n",
       "    </tr>\n",
       "  </tbody>\n",
       "</table>\n",
       "</div>"
      ],
      "text/plain": [
       "   cve_ent                state  population  total_cases    case_rate  \\\n",
       "0        1       AGUASCALIENTES     1434635        26694  1860.682334   \n",
       "1        2      BAJA CALIFORNIA     3634868        50278  1383.213916   \n",
       "2        3  BAJA CALIFORNIA SUR      804708        36223  4501.384353   \n",
       "3        4             CAMPECHE     1000617        11081  1107.416724   \n",
       "4        7              CHIAPAS     5730367        12050   210.283216   \n",
       "\n",
       "   total_cases_last_60_days  case_rate_last_60_days  total_deaths  death_rate  \\\n",
       "0                       793               55.275384          2456  171.193370   \n",
       "1                      2349               64.624080          8648  237.917856   \n",
       "2                      6266              778.667542          1486  184.663257   \n",
       "3                      1628              162.699614          1265  126.421998   \n",
       "4                      1095               19.108724          1654   28.863771   \n",
       "\n",
       "   total_deaths_last_60_days  death_rate_last_60_days  \n",
       "0                         85                 5.924852  \n",
       "1                        174                 4.786969  \n",
       "2                        116                14.415167  \n",
       "3                         56                 5.596547  \n",
       "4                         41                 0.715486  "
      ]
     },
     "execution_count": 2,
     "metadata": {},
     "output_type": "execute_result"
    }
   ],
   "source": [
    "dfWeek1 = pd.read_csv('../data/week1analyzesStates.csv')\n",
    "dfWeek1.head()"
   ]
  },
  {
   "cell_type": "markdown",
   "id": "bd9186af-eebc-481e-97c7-64403ccc69bb",
   "metadata": {},
   "source": [
    "Education dataframes for each state"
   ]
  },
  {
   "cell_type": "markdown",
   "id": "938d3853-5f9b-4052-8002-338c225c5d85",
   "metadata": {},
   "source": [
    "Population who can and can not read and write"
   ]
  },
  {
   "cell_type": "code",
   "execution_count": 3,
   "id": "98871d8d-63e2-4ca8-b5cc-ab0fda08d2da",
   "metadata": {},
   "outputs": [],
   "source": [
    "df = pd.read_excel('../data/Educacion_01.xlsx',skiprows = range(0, 3))"
   ]
  },
  {
   "cell_type": "markdown",
   "id": "47558d7e-3f42-4015-b7dd-f02de89f13e9",
   "metadata": {},
   "source": [
    "Rename of column titles for easier interpretation"
   ]
  },
  {
   "cell_type": "code",
   "execution_count": 4,
   "id": "a27fe342-3417-47f7-95a0-980b85509c4b",
   "metadata": {},
   "outputs": [],
   "source": [
    "df.rename(columns = {'Entidad federativa': 'state', 'Sabe leer y escribir': 'read_write', 'No sabe leer y escribir': 'not_read_write', 'No especificado': 'not_specified'}, inplace=True)"
   ]
  },
  {
   "cell_type": "markdown",
   "id": "63ee4708-f6d0-40ec-8b09-714610262f3f",
   "metadata": {},
   "source": [
    "Elimination of the total row for the whole country"
   ]
  },
  {
   "cell_type": "code",
   "execution_count": 5,
   "id": "effaf605-e4ae-4313-8c85-f0fd35ac048c",
   "metadata": {},
   "outputs": [],
   "source": [
    "df.query(\"state != 'Estados Unidos Mexicanos'\", inplace=True)"
   ]
  },
  {
   "cell_type": "markdown",
   "id": "4c8c084b-0221-485f-a0f9-f769a39cb762",
   "metadata": {},
   "source": [
    "Calculation of percentages of population who can and can not read and write"
   ]
  },
  {
   "cell_type": "code",
   "execution_count": 6,
   "id": "a57dcfb7-3f5b-428e-947b-fea37316faf7",
   "metadata": {},
   "outputs": [],
   "source": [
    "df['pct_read_write']=(df['read_write']/df['Total'])*100"
   ]
  },
  {
   "cell_type": "code",
   "execution_count": 7,
   "id": "dc4c1f57-f0cf-4e87-8c21-c19fa1152403",
   "metadata": {},
   "outputs": [],
   "source": [
    "df['pct_not_read_write']=(df['not_read_write']/df['Total'])*100"
   ]
  },
  {
   "cell_type": "markdown",
   "id": "70874577-9d41-45ba-8621-7b3eb9659916",
   "metadata": {},
   "source": [
    "The states codes dataframe is read"
   ]
  },
  {
   "cell_type": "code",
   "execution_count": 8,
   "id": "98ac40de-0067-48f3-9167-42f55fd1afa1",
   "metadata": {},
   "outputs": [],
   "source": [
    "dfStates = pd.read_csv('../data/week2_states_code_institution.csv')"
   ]
  },
  {
   "cell_type": "markdown",
   "id": "c9ae5362-b094-444c-8c09-31d73415c0cf",
   "metadata": {},
   "source": [
    "The institution denomination for the states is rename for easier merging"
   ]
  },
  {
   "cell_type": "code",
   "execution_count": 9,
   "id": "de487591-74d7-4760-af67-cbeb9766ca06",
   "metadata": {},
   "outputs": [],
   "source": [
    "dfStates.rename(columns={'state_inegi':'state'},inplace=True)"
   ]
  },
  {
   "cell_type": "markdown",
   "id": "d1fc3b83-2722-49f6-978c-d910a75403ac",
   "metadata": {},
   "source": [
    "Only the 32 states of Mexico are selected"
   ]
  },
  {
   "cell_type": "code",
   "execution_count": 10,
   "id": "b23c8851-0ce0-46f2-abcd-a601cac12a6e",
   "metadata": {},
   "outputs": [],
   "source": [
    "df = df.iloc[0:32,:].copy()"
   ]
  },
  {
   "cell_type": "markdown",
   "id": "80d0cabb-66ae-4445-aa6a-14bf9af5190d",
   "metadata": {},
   "source": [
    "The column with the data which will be the intersection with the states code data ('cve_ent') is cleaned"
   ]
  },
  {
   "cell_type": "code",
   "execution_count": 11,
   "id": "6fae2db5-92cc-4abb-8dde-f759a592995a",
   "metadata": {},
   "outputs": [],
   "source": [
    "df['state'] = df['state'].str.upper().str.normalize('NFKD').str.encode('ascii', errors='ignore').str.decode('utf-8')"
   ]
  },
  {
   "cell_type": "markdown",
   "id": "c548187c-f1d6-45d8-b631-8643a9f8f800",
   "metadata": {},
   "source": [
    "The dataframes are merged so that the codes are obtain"
   ]
  },
  {
   "cell_type": "code",
   "execution_count": 12,
   "id": "542ee74b-5be7-4eed-8529-f4590d6feae8",
   "metadata": {},
   "outputs": [],
   "source": [
    "df = pd.merge(df,dfStates,on='state')"
   ]
  },
  {
   "cell_type": "markdown",
   "id": "797e1b5c-5827-463b-9f76-84871be68309",
   "metadata": {},
   "source": [
    "Only the data of interest is selected"
   ]
  },
  {
   "cell_type": "code",
   "execution_count": 13,
   "id": "9915cf86-6e20-4d58-ae52-9c6b310bc225",
   "metadata": {},
   "outputs": [],
   "source": [
    "df = df[['cve_ent','pct_read_write','pct_not_read_write']].copy()"
   ]
  },
  {
   "cell_type": "markdown",
   "id": "1561dcb1-b194-49fc-bcd3-ef45d5a7ccc5",
   "metadata": {},
   "source": [
    "The dataframe from week 1 analyzes and the dataframe of the percentages of population who can and can't read are merge by 'cve_ent'"
   ]
  },
  {
   "cell_type": "code",
   "execution_count": 14,
   "id": "90c8acb8-d247-48d0-9ff9-b8175f4d28db",
   "metadata": {},
   "outputs": [],
   "source": [
    "dfAll = pd.merge(df,dfWeek1,on='cve_ent')"
   ]
  },
  {
   "cell_type": "markdown",
   "id": "bf02b6ae-8edf-475a-8761-01f961124e8d",
   "metadata": {},
   "source": [
    "## Correlation plot between the percentage of people who can't read/write and the case rate\n",
    "\n",
    "The correlation between the percentage of people who can not write and read with the cases rate"
   ]
  },
  {
   "cell_type": "code",
   "execution_count": 15,
   "id": "12f5dd45-85b1-4c7b-9f46-70030d975967",
   "metadata": {},
   "outputs": [
    {
     "data": {
      "image/png": "[encoded data removed]",
      "text/plain": [
       "<Figure size 1008x720 with 1 Axes>"
      ]
     },
     "metadata": {
      "needs_background": "light"
     },
     "output_type": "display_data"
    }
   ],
   "source": [
    "plt.figure(figsize=(14,10))\n",
    "sns.regplot(x=\"case_rate\", y=\"pct_not_read_write\", data=dfAll)\n",
    "sns.set_context('paper', font_scale=2)"
   ]
  },
  {
   "cell_type": "markdown",
   "id": "47589632-9b53-42d3-bd86-d6ec745bd381",
   "metadata": {},
   "source": [
    "This correlation behaviour is negative meaning that the population of the states who can't read are less likely to contract the disease"
   ]
  },
  {
   "cell_type": "markdown",
   "id": "db1b5cdb-5223-4f88-a933-72fa31bc6a46",
   "metadata": {},
   "source": [
    "## Correlation plot between the percentage of people who can read/write and the case rate\n",
    "\n",
    "The correlation between the percentage of people who can write and read with the cases rate"
   ]
  },
  {
   "cell_type": "code",
   "execution_count": 16,
   "id": "342e2027-f2ab-4f6f-a7b2-13ab06fc4e75",
   "metadata": {},
   "outputs": [
    {
     "data": {
      "image/png": "[encoded data removed]",
      "text/plain": [
       "<Figure size 1008x720 with 1 Axes>"
      ]
     },
     "metadata": {
      "needs_background": "light"
     },
     "output_type": "display_data"
    }
   ],
   "source": [
    "plt.figure(figsize=(14,10))\n",
    "sns.regplot(x=\"case_rate\", y=\"pct_read_write\", data=dfAll)\n",
    "sns.set_context('paper', font_scale=2)"
   ]
  },
  {
   "cell_type": "markdown",
   "id": "4b1f6328-9d91-4871-a483-fbb30ea15afc",
   "metadata": {},
   "source": [
    "This correlation behaviour is negative meaning that the population of the states who can read are more likely to contract the disease"
   ]
  },
  {
   "cell_type": "markdown",
   "id": "d0a88a71-eaa4-46fa-97a6-e7bd31c9d331",
   "metadata": {},
   "source": [
    "Finally the data of this week analyzes is selected for storage"
   ]
  },
  {
   "cell_type": "code",
   "execution_count": 17,
   "id": "700a50fa-9e27-41e4-8409-efe4f2b061b5",
   "metadata": {},
   "outputs": [
    {
     "data": {
      "text/html": [
       "<div>\n",
       "<style scoped>\n",
       "    .dataframe tbody tr th:only-of-type {\n",
       "        vertical-align: middle;\n",
       "    }\n",
       "\n",
       "    .dataframe tbody tr th {\n",
       "        vertical-align: top;\n",
       "    }\n",
       "\n",
       "    .dataframe thead th {\n",
       "        text-align: right;\n",
       "    }\n",
       "</style>\n",
       "<table border=\"1\" class=\"dataframe\">\n",
       "  <thead>\n",
       "    <tr style=\"text-align: right;\">\n",
       "      <th></th>\n",
       "      <th>cve_ent</th>\n",
       "      <th>state</th>\n",
       "      <th>pct_read_write</th>\n",
       "      <th>pct_not_read_write</th>\n",
       "    </tr>\n",
       "  </thead>\n",
       "  <tbody>\n",
       "    <tr>\n",
       "      <th>0</th>\n",
       "      <td>1</td>\n",
       "      <td>AGUASCALIENTES</td>\n",
       "      <td>92.112513</td>\n",
       "      <td>7.577890</td>\n",
       "    </tr>\n",
       "    <tr>\n",
       "      <th>1</th>\n",
       "      <td>2</td>\n",
       "      <td>BAJA CALIFORNIA</td>\n",
       "      <td>89.678697</td>\n",
       "      <td>9.511626</td>\n",
       "    </tr>\n",
       "    <tr>\n",
       "      <th>2</th>\n",
       "      <td>3</td>\n",
       "      <td>BAJA CALIFORNIA SUR</td>\n",
       "      <td>88.917670</td>\n",
       "      <td>10.542815</td>\n",
       "    </tr>\n",
       "    <tr>\n",
       "      <th>3</th>\n",
       "      <td>4</td>\n",
       "      <td>CAMPECHE</td>\n",
       "      <td>89.288047</td>\n",
       "      <td>10.283008</td>\n",
       "    </tr>\n",
       "    <tr>\n",
       "      <th>4</th>\n",
       "      <td>5</td>\n",
       "      <td>COAHUILA</td>\n",
       "      <td>91.559805</td>\n",
       "      <td>8.028859</td>\n",
       "    </tr>\n",
       "    <tr>\n",
       "      <th>5</th>\n",
       "      <td>6</td>\n",
       "      <td>COLIMA</td>\n",
       "      <td>89.682802</td>\n",
       "      <td>9.917492</td>\n",
       "    </tr>\n",
       "    <tr>\n",
       "      <th>6</th>\n",
       "      <td>7</td>\n",
       "      <td>CHIAPAS</td>\n",
       "      <td>80.801686</td>\n",
       "      <td>18.898393</td>\n",
       "    </tr>\n",
       "    <tr>\n",
       "      <th>7</th>\n",
       "      <td>8</td>\n",
       "      <td>CHIHUAHUA</td>\n",
       "      <td>90.042903</td>\n",
       "      <td>9.418972</td>\n",
       "    </tr>\n",
       "    <tr>\n",
       "      <th>8</th>\n",
       "      <td>9</td>\n",
       "      <td>DISTRITO FEDERAL</td>\n",
       "      <td>92.839593</td>\n",
       "      <td>6.517517</td>\n",
       "    </tr>\n",
       "    <tr>\n",
       "      <th>9</th>\n",
       "      <td>10</td>\n",
       "      <td>DURANGO</td>\n",
       "      <td>90.200858</td>\n",
       "      <td>9.423542</td>\n",
       "    </tr>\n",
       "    <tr>\n",
       "      <th>10</th>\n",
       "      <td>11</td>\n",
       "      <td>GUANAJUATO</td>\n",
       "      <td>89.976721</td>\n",
       "      <td>9.439842</td>\n",
       "    </tr>\n",
       "    <tr>\n",
       "      <th>11</th>\n",
       "      <td>12</td>\n",
       "      <td>GUERRERO</td>\n",
       "      <td>85.724973</td>\n",
       "      <td>13.920820</td>\n",
       "    </tr>\n",
       "    <tr>\n",
       "      <th>12</th>\n",
       "      <td>13</td>\n",
       "      <td>HIDALGO</td>\n",
       "      <td>91.824172</td>\n",
       "      <td>7.827763</td>\n",
       "    </tr>\n",
       "    <tr>\n",
       "      <th>13</th>\n",
       "      <td>14</td>\n",
       "      <td>JALISCO</td>\n",
       "      <td>90.283147</td>\n",
       "      <td>9.195468</td>\n",
       "    </tr>\n",
       "    <tr>\n",
       "      <th>14</th>\n",
       "      <td>15</td>\n",
       "      <td>MEXICO</td>\n",
       "      <td>92.080358</td>\n",
       "      <td>6.983240</td>\n",
       "    </tr>\n",
       "    <tr>\n",
       "      <th>15</th>\n",
       "      <td>16</td>\n",
       "      <td>MICHOACAN</td>\n",
       "      <td>87.670973</td>\n",
       "      <td>11.916012</td>\n",
       "    </tr>\n",
       "    <tr>\n",
       "      <th>16</th>\n",
       "      <td>17</td>\n",
       "      <td>MORELOS</td>\n",
       "      <td>91.142966</td>\n",
       "      <td>8.365244</td>\n",
       "    </tr>\n",
       "    <tr>\n",
       "      <th>17</th>\n",
       "      <td>18</td>\n",
       "      <td>NAYARIT</td>\n",
       "      <td>89.192500</td>\n",
       "      <td>10.480518</td>\n",
       "    </tr>\n",
       "    <tr>\n",
       "      <th>18</th>\n",
       "      <td>19</td>\n",
       "      <td>NUEVO LEON</td>\n",
       "      <td>91.708468</td>\n",
       "      <td>7.643970</td>\n",
       "    </tr>\n",
       "    <tr>\n",
       "      <th>19</th>\n",
       "      <td>20</td>\n",
       "      <td>OAXACA</td>\n",
       "      <td>88.593704</td>\n",
       "      <td>11.042577</td>\n",
       "    </tr>\n",
       "    <tr>\n",
       "      <th>20</th>\n",
       "      <td>21</td>\n",
       "      <td>PUEBLA</td>\n",
       "      <td>90.118782</td>\n",
       "      <td>9.450208</td>\n",
       "    </tr>\n",
       "    <tr>\n",
       "      <th>21</th>\n",
       "      <td>22</td>\n",
       "      <td>QUERETARO</td>\n",
       "      <td>91.613594</td>\n",
       "      <td>7.898426</td>\n",
       "    </tr>\n",
       "    <tr>\n",
       "      <th>22</th>\n",
       "      <td>23</td>\n",
       "      <td>QUINTANA ROO</td>\n",
       "      <td>89.063518</td>\n",
       "      <td>10.280394</td>\n",
       "    </tr>\n",
       "    <tr>\n",
       "      <th>23</th>\n",
       "      <td>24</td>\n",
       "      <td>SAN LUIS POTOSI</td>\n",
       "      <td>91.378039</td>\n",
       "      <td>8.062379</td>\n",
       "    </tr>\n",
       "    <tr>\n",
       "      <th>24</th>\n",
       "      <td>25</td>\n",
       "      <td>SINALOA</td>\n",
       "      <td>91.678330</td>\n",
       "      <td>7.930373</td>\n",
       "    </tr>\n",
       "    <tr>\n",
       "      <th>25</th>\n",
       "      <td>26</td>\n",
       "      <td>SONORA</td>\n",
       "      <td>89.419856</td>\n",
       "      <td>10.097038</td>\n",
       "    </tr>\n",
       "    <tr>\n",
       "      <th>26</th>\n",
       "      <td>27</td>\n",
       "      <td>TABASCO</td>\n",
       "      <td>89.095567</td>\n",
       "      <td>10.522362</td>\n",
       "    </tr>\n",
       "    <tr>\n",
       "      <th>27</th>\n",
       "      <td>28</td>\n",
       "      <td>TAMAULIPAS</td>\n",
       "      <td>91.060195</td>\n",
       "      <td>8.476052</td>\n",
       "    </tr>\n",
       "    <tr>\n",
       "      <th>28</th>\n",
       "      <td>29</td>\n",
       "      <td>TLAXCALA</td>\n",
       "      <td>91.648630</td>\n",
       "      <td>7.905364</td>\n",
       "    </tr>\n",
       "    <tr>\n",
       "      <th>29</th>\n",
       "      <td>30</td>\n",
       "      <td>VERACRUZ</td>\n",
       "      <td>88.923009</td>\n",
       "      <td>10.752279</td>\n",
       "    </tr>\n",
       "    <tr>\n",
       "      <th>30</th>\n",
       "      <td>31</td>\n",
       "      <td>YUCATAN</td>\n",
       "      <td>89.919218</td>\n",
       "      <td>9.727919</td>\n",
       "    </tr>\n",
       "    <tr>\n",
       "      <th>31</th>\n",
       "      <td>32</td>\n",
       "      <td>ZACATECAS</td>\n",
       "      <td>91.275705</td>\n",
       "      <td>8.390899</td>\n",
       "    </tr>\n",
       "  </tbody>\n",
       "</table>\n",
       "</div>"
      ],
      "text/plain": [
       "    cve_ent                state  pct_read_write  pct_not_read_write\n",
       "0         1       AGUASCALIENTES       92.112513            7.577890\n",
       "1         2      BAJA CALIFORNIA       89.678697            9.511626\n",
       "2         3  BAJA CALIFORNIA SUR       88.917670           10.542815\n",
       "3         4             CAMPECHE       89.288047           10.283008\n",
       "4         5             COAHUILA       91.559805            8.028859\n",
       "5         6               COLIMA       89.682802            9.917492\n",
       "6         7              CHIAPAS       80.801686           18.898393\n",
       "7         8            CHIHUAHUA       90.042903            9.418972\n",
       "8         9     DISTRITO FEDERAL       92.839593            6.517517\n",
       "9        10              DURANGO       90.200858            9.423542\n",
       "10       11           GUANAJUATO       89.976721            9.439842\n",
       "11       12             GUERRERO       85.724973           13.920820\n",
       "12       13              HIDALGO       91.824172            7.827763\n",
       "13       14              JALISCO       90.283147            9.195468\n",
       "14       15               MEXICO       92.080358            6.983240\n",
       "15       16            MICHOACAN       87.670973           11.916012\n",
       "16       17              MORELOS       91.142966            8.365244\n",
       "17       18              NAYARIT       89.192500           10.480518\n",
       "18       19           NUEVO LEON       91.708468            7.643970\n",
       "19       20               OAXACA       88.593704           11.042577\n",
       "20       21               PUEBLA       90.118782            9.450208\n",
       "21       22            QUERETARO       91.613594            7.898426\n",
       "22       23         QUINTANA ROO       89.063518           10.280394\n",
       "23       24      SAN LUIS POTOSI       91.378039            8.062379\n",
       "24       25              SINALOA       91.678330            7.930373\n",
       "25       26               SONORA       89.419856           10.097038\n",
       "26       27              TABASCO       89.095567           10.522362\n",
       "27       28           TAMAULIPAS       91.060195            8.476052\n",
       "28       29             TLAXCALA       91.648630            7.905364\n",
       "29       30             VERACRUZ       88.923009           10.752279\n",
       "30       31              YUCATAN       89.919218            9.727919\n",
       "31       32            ZACATECAS       91.275705            8.390899"
      ]
     },
     "execution_count": 17,
     "metadata": {},
     "output_type": "execute_result"
    }
   ],
   "source": [
    "dfFinal = dfAll[['cve_ent','state','pct_read_write', 'pct_not_read_write']].copy()\n",
    "dfFinal"
   ]
  },
  {
   "cell_type": "markdown",
   "id": "3a3a71fc-b0ce-45d6-b37d-7371cf53ac05",
   "metadata": {},
   "source": [
    "The data analyzes of this week is stored."
   ]
  },
  {
   "cell_type": "code",
   "execution_count": 18,
   "id": "8829e525-7c97-4e54-a6da-1ae9f35e9490",
   "metadata": {},
   "outputs": [],
   "source": [
    "dfFinal.to_csv('../data/week2analyzesStates.csv',index=False)"
   ]
  }
 ],
 "metadata": {
  "kernelspec": {
   "display_name": "Python 3 (ipykernel)",
   "language": "python",
   "name": "python3"
  },
  "language_info": {
   "codemirror_mode": {
    "name": "ipython",
    "version": 3
   },
   "file_extension": ".py",
   "mimetype": "text/x-python",
   "name": "python",
   "nbconvert_exporter": "python",
   "pygments_lexer": "ipython3",
   "version": "3.9.6"
  }
 },
 "nbformat": 4,
 "nbformat_minor": 5
}
