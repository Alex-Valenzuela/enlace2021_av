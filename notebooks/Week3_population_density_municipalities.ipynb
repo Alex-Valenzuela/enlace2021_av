{
 "cells": [
  {
   "cell_type": "markdown",
   "id": "a4b305cc-142a-4f05-ba41-53ea4bb5b1b3",
   "metadata": {},
   "source": [
    "# Population Density of Mexican Municipalities\n",
    "\n",
    "This Notebook downloads Geopandas GeoDataFrames for Municipalities (admin2) derived from the 2020 Mexican Census: [INEGI](https://www.inegi.org.mx/temas/mg/).\n",
    "\n",
    "For details how these dataframe were created, see the [mexican-boundaries](https://github.com/sbl-sdsc/mexico-boundaries) GitHub project."
   ]
  },
  {
   "cell_type": "code",
   "execution_count": 1,
   "id": "f351c5d3-22c6-4644-a8e5-76aff5b5ca51",
   "metadata": {},
   "outputs": [],
   "source": [
    "from io import BytesIO\n",
    "from urllib.request import urlopen\n",
    "import pandas as pd\n",
    "import geopandas as gpd\n",
    "import matplotlib.pyplot as plt\n",
    "import ipywidgets as widgets\n",
    "\n",
    "%matplotlib inline\n",
    "%reload_ext autoreload\n",
    "%autoreload 2"
   ]
  },
  {
   "cell_type": "code",
   "execution_count": 2,
   "id": "9ab7f145-ac0b-499b-9f89-8591f343c05a",
   "metadata": {},
   "outputs": [],
   "source": [
    "pd.options.display.max_rows = None  # display all rows\n",
    "pd.options.display.max_columns = None  # display all columsns"
   ]
  },
  {
   "cell_type": "markdown",
   "id": "583b8ecd-adcc-41a6-a1f9-13ee35eea81d",
   "metadata": {},
   "source": [
    "## Boundaries of Mexican Municipalities"
   ]
  },
  {
   "cell_type": "markdown",
   "id": "44b7bcd8-0320-439b-961f-de0d391b8bfb",
   "metadata": {},
   "source": [
    "Read boundary polygons for Mexican states from shapefile"
   ]
  },
  {
   "cell_type": "code",
   "execution_count": 3,
   "id": "ced43c74-8a25-4d80-933e-e84ecea69c1e",
   "metadata": {},
   "outputs": [],
   "source": [
    "admin2_url = 'https://raw.githubusercontent.com/sbl-sdsc/mexico-boundaries/main/data/mexico_admin2.parquet'"
   ]
  },
  {
   "cell_type": "code",
   "execution_count": 4,
   "id": "bd441820-5603-451e-8800-e4f9432ba22a",
   "metadata": {},
   "outputs": [],
   "source": [
    "resp = urlopen(admin2_url)\n",
    "admin2 = gpd.read_parquet(BytesIO(resp.read()))"
   ]
  },
  {
   "cell_type": "markdown",
   "id": "9e9438fc-38cf-40b2-8be6-8d631aa726e0",
   "metadata": {},
   "source": [
    "Calculate the area of each state (convert area from m^2 to km^2"
   ]
  },
  {
   "cell_type": "code",
   "execution_count": 5,
   "id": "537fbe2e-d6d8-449b-80d1-df1dc6451d25",
   "metadata": {},
   "outputs": [
    {
     "data": {
      "text/plain": [
       "<Projected CRS: PROJCRS[\"MEXICO_ITRF_2008_LCC\",BASEGEOGCRS[\"MEXICO ...>\n",
       "Name: MEXICO_ITRF_2008_LCC\n",
       "Axis Info [cartesian]:\n",
       "- [east]: Easting (metre)\n",
       "- [north]: Northing (metre)\n",
       "Area of Use:\n",
       "- undefined\n",
       "Coordinate Operation:\n",
       "- name: unnamed\n",
       "- method: Lambert Conic Conformal (2SP)\n",
       "Datum: International Terrestrial Reference Frame 2008\n",
       "- Ellipsoid: GRS 1980\n",
       "- Prime Meridian: Greenwich"
      ]
     },
     "execution_count": 5,
     "metadata": {},
     "output_type": "execute_result"
    }
   ],
   "source": [
    "admin2.crs"
   ]
  },
  {
   "cell_type": "code",
   "execution_count": 6,
   "id": "7719a5bd-a0d7-46c4-a549-d706efb327c7",
   "metadata": {},
   "outputs": [],
   "source": [
    "admin2['area_sqkm'] = admin2['geometry'].area/ 10**6"
   ]
  },
  {
   "cell_type": "markdown",
   "id": "385128b4-95eb-4ea6-b512-1a4daf39e949",
   "metadata": {},
   "source": [
    "Converting the identifying code of municipality that belongs to a certain state"
   ]
  },
  {
   "cell_type": "code",
   "execution_count": 7,
   "id": "1d6bbc56-6fa7-4dae-8fef-e2967c8d61ea",
   "metadata": {},
   "outputs": [],
   "source": [
    "admin2['CVEGEO']=admin2['CVEGEO'].astype('int')"
   ]
  },
  {
   "cell_type": "code",
   "execution_count": 8,
   "id": "fcdfcd4e-506e-499e-9115-44d030621b98",
   "metadata": {},
   "outputs": [
    {
     "data": {
      "text/html": [
       "<div>\n",
       "<style scoped>\n",
       "    .dataframe tbody tr th:only-of-type {\n",
       "        vertical-align: middle;\n",
       "    }\n",
       "\n",
       "    .dataframe tbody tr th {\n",
       "        vertical-align: top;\n",
       "    }\n",
       "\n",
       "    .dataframe thead th {\n",
       "        text-align: right;\n",
       "    }\n",
       "</style>\n",
       "<table border=\"1\" class=\"dataframe\">\n",
       "  <thead>\n",
       "    <tr style=\"text-align: right;\">\n",
       "      <th></th>\n",
       "      <th>CVEGEO</th>\n",
       "      <th>CVE_ENT</th>\n",
       "      <th>CVE_MUN</th>\n",
       "      <th>NOMGEO</th>\n",
       "      <th>geometry</th>\n",
       "      <th>area_sqkm</th>\n",
       "    </tr>\n",
       "  </thead>\n",
       "  <tbody>\n",
       "    <tr>\n",
       "      <th>0</th>\n",
       "      <td>1001</td>\n",
       "      <td>01</td>\n",
       "      <td>001</td>\n",
       "      <td>Aguascalientes</td>\n",
       "      <td>POLYGON ((2489072.503 1115771.584, 2489352.774...</td>\n",
       "      <td>1166.359248</td>\n",
       "    </tr>\n",
       "    <tr>\n",
       "      <th>1</th>\n",
       "      <td>1002</td>\n",
       "      <td>01</td>\n",
       "      <td>002</td>\n",
       "      <td>Asientos</td>\n",
       "      <td>POLYGON ((2494680.261 1141224.505, 2494749.948...</td>\n",
       "      <td>543.374266</td>\n",
       "    </tr>\n",
       "    <tr>\n",
       "      <th>2</th>\n",
       "      <td>1003</td>\n",
       "      <td>01</td>\n",
       "      <td>003</td>\n",
       "      <td>Calvillo</td>\n",
       "      <td>POLYGON ((2429607.454 1120262.254, 2429071.902...</td>\n",
       "      <td>923.357832</td>\n",
       "    </tr>\n",
       "    <tr>\n",
       "      <th>3</th>\n",
       "      <td>1004</td>\n",
       "      <td>01</td>\n",
       "      <td>004</td>\n",
       "      <td>Cosío</td>\n",
       "      <td>POLYGON ((2470517.824 1155028.588, 2470552.248...</td>\n",
       "      <td>128.383545</td>\n",
       "    </tr>\n",
       "    <tr>\n",
       "      <th>4</th>\n",
       "      <td>1005</td>\n",
       "      <td>01</td>\n",
       "      <td>005</td>\n",
       "      <td>Jesús María</td>\n",
       "      <td>POLYGON ((2465526.729 1114740.466, 2465752.546...</td>\n",
       "      <td>499.895092</td>\n",
       "    </tr>\n",
       "  </tbody>\n",
       "</table>\n",
       "</div>"
      ],
      "text/plain": [
       "   CVEGEO CVE_ENT CVE_MUN          NOMGEO  \\\n",
       "0    1001      01     001  Aguascalientes   \n",
       "1    1002      01     002        Asientos   \n",
       "2    1003      01     003        Calvillo   \n",
       "3    1004      01     004           Cosío   \n",
       "4    1005      01     005     Jesús María   \n",
       "\n",
       "                                            geometry    area_sqkm  \n",
       "0  POLYGON ((2489072.503 1115771.584, 2489352.774...  1166.359248  \n",
       "1  POLYGON ((2494680.261 1141224.505, 2494749.948...   543.374266  \n",
       "2  POLYGON ((2429607.454 1120262.254, 2429071.902...   923.357832  \n",
       "3  POLYGON ((2470517.824 1155028.588, 2470552.248...   128.383545  \n",
       "4  POLYGON ((2465526.729 1114740.466, 2465752.546...   499.895092  "
      ]
     },
     "execution_count": 8,
     "metadata": {},
     "output_type": "execute_result"
    }
   ],
   "source": [
    "admin2.head()"
   ]
  },
  {
   "cell_type": "code",
   "execution_count": null,
   "id": "9b910d60-db7e-493d-b449-e9823291a40a",
   "metadata": {},
   "outputs": [],
   "source": [
    "admin2.plot();"
   ]
  },
  {
   "cell_type": "markdown",
   "id": "61ee7d39-0ba2-4377-aeea-e99daf2866b8",
   "metadata": {},
   "source": [
    "Get population from week 1 analyzes data file"
   ]
  },
  {
   "cell_type": "code",
   "execution_count": null,
   "id": "4afb069b-66dd-4ae8-9d3c-fe3653937c87",
   "metadata": {},
   "outputs": [],
   "source": [
    "population_admin2 = pd.read_csv('../data/week1analyzesMunicipalities.csv', \n",
    "                                usecols=['cve_ent', 'population'])"
   ]
  },
  {
   "cell_type": "markdown",
   "id": "a868954e-4476-4560-8eb8-ccb742d85755",
   "metadata": {},
   "source": [
    "Add CVEGEO state-municipality code column"
   ]
  },
  {
   "cell_type": "code",
   "execution_count": null,
   "id": "be10e8cb-f9b2-4d83-90ce-60a498c52f4b",
   "metadata": {},
   "outputs": [],
   "source": [
    "population_admin2.rename(columns = {'cve_ent':'CVEGEO'},inplace=True)"
   ]
  },
  {
   "cell_type": "code",
   "execution_count": null,
   "id": "905cd9ec-8ef0-46ac-818f-7931f1c57f32",
   "metadata": {},
   "outputs": [],
   "source": [
    "population_admin2.head()"
   ]
  },
  {
   "cell_type": "markdown",
   "id": "5f1bf65e-b3d5-4833-b1eb-d26d945b0b9c",
   "metadata": {},
   "source": [
    "Merge the geo dataframe with the population dataframe using the common CVE_ENT column"
   ]
  },
  {
   "cell_type": "code",
   "execution_count": null,
   "id": "7afd2eef-3849-4adb-aa8a-c136749a572b",
   "metadata": {},
   "outputs": [],
   "source": [
    "df_admin2 = admin2.merge(population_admin2, on='CVEGEO')"
   ]
  },
  {
   "cell_type": "code",
   "execution_count": null,
   "id": "e41cfcd3-6100-4507-92a7-885151414d68",
   "metadata": {},
   "outputs": [],
   "source": [
    "df_admin2.head()"
   ]
  },
  {
   "cell_type": "markdown",
   "id": "3b9a38b4-d41c-4e59-b7d9-392b054472ff",
   "metadata": {},
   "source": [
    "The population density is computed"
   ]
  },
  {
   "cell_type": "code",
   "execution_count": null,
   "id": "12f9a143-b1bc-48fe-9627-b66aab20505d",
   "metadata": {},
   "outputs": [],
   "source": [
    "df_admin2['population/sqkm']=df_admin2['population']/df_admin2['area_sqkm']"
   ]
  },
  {
   "cell_type": "code",
   "execution_count": null,
   "id": "4a3f9335-54fb-4c41-9bbf-a42652b6c2e1",
   "metadata": {},
   "outputs": [],
   "source": [
    "df_admin2.head()"
   ]
  },
  {
   "cell_type": "markdown",
   "id": "b085607f-9a4b-441c-95be-5d5028cb7385",
   "metadata": {},
   "source": [
    "The data of interest is selected for future storage"
   ]
  },
  {
   "cell_type": "code",
   "execution_count": null,
   "id": "868e10b4-2203-4970-94e7-2a7d288465f6",
   "metadata": {},
   "outputs": [],
   "source": [
    "dfFinal = df_admin2[['CVEGEO','population/sqkm']].copy()"
   ]
  },
  {
   "cell_type": "markdown",
   "id": "4f7f9365-254a-428b-8f3a-b7c19066fa49",
   "metadata": {},
   "source": [
    "Add cve_ent as CVEGEO state-municipality code column to make the compatibility of future merging simpler"
   ]
  },
  {
   "cell_type": "code",
   "execution_count": null,
   "id": "33a6507e-ccc3-4689-827d-e71d2bc92717",
   "metadata": {},
   "outputs": [],
   "source": [
    "dfFinal.rename(columns = {'CVEGEO':'cve_ent'},inplace=True)"
   ]
  },
  {
   "cell_type": "markdown",
   "id": "382674e7-3faf-4306-aff5-8d1ec4de2197",
   "metadata": {},
   "source": [
    "The dataframe is stored"
   ]
  },
  {
   "cell_type": "code",
   "execution_count": null,
   "id": "17e291ae-b656-4159-a937-053a1a973145",
   "metadata": {},
   "outputs": [],
   "source": [
    "dfFinal.to_csv('../data/week3_population_density_municipalities.csv')"
   ]
  }
 ],
 "metadata": {
  "kernelspec": {
   "display_name": "Python 3 (ipykernel)",
   "language": "python",
   "name": "python3"
  },
  "language_info": {
   "codemirror_mode": {
    "name": "ipython",
    "version": 3
   },
   "file_extension": ".py",
   "mimetype": "text/x-python",
   "name": "python",
   "nbconvert_exporter": "python",
   "pygments_lexer": "ipython3",
   "version": "3.9.6"
  }
 },
 "nbformat": 4,
 "nbformat_minor": 5
}
